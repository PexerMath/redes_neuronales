{
 "cells": [
  {
   "cell_type": "markdown",
   "metadata": {},
   "source": [
    "# Construcción de una Red Neuronal para el Reconocimiento de Dígitos Manuscritos"
   ]
  },
  {
   "cell_type": "markdown",
   "metadata": {},
   "source": [
    "<div style=\"text-align: center;\">\n",
    "    <img src=\"images/numbers.png\" style=\"width: 100%; height: 400px;d\" alt=\"Imagen recortada\">\n",
    "</div>\n",
    "\n",
    "\n"
   ]
  },
  {
   "cell_type": "markdown",
   "metadata": {},
   "source": [
    "## 1. Introducción"
   ]
  },
  {
   "cell_type": "markdown",
   "metadata": {},
   "source": [
    "En este proyecto, se desarrollará una ed neuronal artificial. Este es un primer acercamiento al diseño e implementación de modelos de aprendizaje profundo. La arqitectura de la red neuronal será simple, estará compuesta por tres capas, una primera de aplanamiento, una capa densa oculta y por último una capa de salida."
   ]
  },
  {
   "cell_type": "markdown",
   "metadata": {},
   "source": [
    "Se utilizará el conjunto de datos `MNIST`, que es un estándar en el campo del deep learning y computer vision. Este dataset contiene 70000 imágenes en escala de grises de dígitos escritos a mano, divididas en 60000 imágenes para entrenamiento y 10000 imágenes para prueba."
   ]
  },
  {
   "cell_type": "markdown",
   "metadata": {},
   "source": [
    "Cada imágen tiene un tamaño de 28x28 píxeles y representa un único dígito del 0 al 9. El objetivo es que la red neuronal clasifique correctamente cada imagen en la categoría correspondiente."
   ]
  },
  {
   "cell_type": "markdown",
   "metadata": {},
   "source": [
    "## 2. Importación de las Librerías"
   ]
  },
  {
   "cell_type": "code",
   "execution_count": 43,
   "metadata": {},
   "outputs": [],
   "source": [
    "import numpy as np\n",
    "import tensorflow as tf\n",
    "import matplotlib.pyplot as plt\n",
    "from tensorflow.keras.utils import to_categorical\n",
    "from sklearn.model_selection import train_test_split\n",
    "\n",
    "from tensorflow.keras.models import Sequential\n",
    "from tensorflow.keras.layers import Dense, Flatten\n",
    "from tensorflow.keras.optimizers import SGD\n",
    "from sklearn.metrics import classification_report\n"
   ]
  },
  {
   "cell_type": "markdown",
   "metadata": {},
   "source": [
    "## 3. Carga de los Datos"
   ]
  },
  {
   "cell_type": "code",
   "execution_count": 28,
   "metadata": {},
   "outputs": [],
   "source": [
    "mnist = tf.keras.datasets.mnist\n",
    "(X_train, y_train), (X_test, y_test) = mnist.load_data()"
   ]
  },
  {
   "cell_type": "markdown",
   "metadata": {},
   "source": [
    "## 4. Exploración del Conjunto de Datos"
   ]
  },
  {
   "cell_type": "markdown",
   "metadata": {},
   "source": [
    "Empezamos imprimiendo por pantalla las dimensiones de las matrces de entrenamisnto y prueba."
   ]
  },
  {
   "cell_type": "code",
   "execution_count": 29,
   "metadata": {},
   "outputs": [
    {
     "name": "stdout",
     "output_type": "stream",
     "text": [
      "Tamaño de los datos de entrenamiento:\n",
      "X_train: (60000, 28, 28), y_train: (60000,)\n"
     ]
    }
   ],
   "source": [
    "print(\"Tamaño de los datos de entrenamiento:\")\n",
    "print(f\"X_train: {X_train.shape}, y_train: {y_train.shape}\")"
   ]
  },
  {
   "cell_type": "code",
   "execution_count": 30,
   "metadata": {},
   "outputs": [
    {
     "name": "stdout",
     "output_type": "stream",
     "text": [
      "Tamaño de los datos de prueba:\n",
      "X_test: (10000, 28, 28), y_test: (10000,)\n"
     ]
    }
   ],
   "source": [
    "print(\"Tamaño de los datos de prueba:\")\n",
    "print(f\"X_test: {X_test.shape}, y_test: {y_test.shape}\")"
   ]
  },
  {
   "cell_type": "markdown",
   "metadata": {},
   "source": [
    "Queda comprobado que es cierto que para el entrenamiento disponemos de 60000 ejemplares de 28x28 y para la prueba de 10000."
   ]
  },
  {
   "cell_type": "markdown",
   "metadata": {},
   "source": [
    "Ahora, nos centraremos en las clases presentes en las etiquetas y sus frecuencias. "
   ]
  },
  {
   "cell_type": "code",
   "execution_count": 31,
   "metadata": {},
   "outputs": [
    {
     "name": "stdout",
     "output_type": "stream",
     "text": [
      "Primeras 20 etiquetas:\n",
      "[5 0 4 1 9 2 1 3 1 4 3 5 3 6 1 7 2 8 6 9]\n"
     ]
    }
   ],
   "source": [
    "print(\"Primeras 20 etiquetas:\")\n",
    "print(y_train[:20])"
   ]
  },
  {
   "cell_type": "markdown",
   "metadata": {},
   "source": [
    "Debemos tener en cuenta que si el conjunto de entrenamiento son 60000 y tenemos 10 dígitos (del 0 al 9) nos deberían tocar un total de 6000 ejemplos por clase para tener un conjunto perfectamente balanceado."
   ]
  },
  {
   "cell_type": "code",
   "execution_count": 32,
   "metadata": {},
   "outputs": [
    {
     "name": "stdout",
     "output_type": "stream",
     "text": [
      "Distribución de las clases:\n",
      "{0: 5923, 1: 6742, 2: 5958, 3: 6131, 4: 5842, 5: 5421, 6: 5918, 7: 6265, 8: 5851, 9: 5949}\n"
     ]
    }
   ],
   "source": [
    "unique, counts = np.unique(y_train, return_counts=True)\n",
    "print(\"Distribución de las clases:\")\n",
    "print(dict(zip(unique, counts)))"
   ]
  },
  {
   "cell_type": "markdown",
   "metadata": {},
   "source": [
    "La clase con más ejemplos es el dígito 1, con 6742 imágenes, y la que menos es el dígito 5, con 5421 imágenes. El conjunto de datos no está perfectamente equilibrado, pero las diferencias no son demasiado pronunciadas."
   ]
  },
  {
   "cell_type": "markdown",
   "metadata": {},
   "source": [
    "Para entender mejor el formato de los datos, nos puede ser útil visualizar las imágenes y sus etiquetas."
   ]
  },
  {
   "cell_type": "code",
   "execution_count": 33,
   "metadata": {},
   "outputs": [
    {
     "data": {
      "image/png": "[encoded data removed]",
      "text/plain": [
       "<Figure size 640x480 with 1 Axes>"
      ]
     },
     "metadata": {},
     "output_type": "display_data"
    }
   ],
   "source": [
    "def display_digit(X_train, y_train, num):\n",
    "  image = X_train[num, :, :]\n",
    "  label = y_train[num]\n",
    "  # Visualizamos\n",
    "  plt.title(\"Etiqueta: \" + str(label))\n",
    "  plt.imshow(image, cmap=plt.get_cmap(\"gray_r\"))\n",
    "  plt.axis(\"off\")\n",
    "  plt.show()\n",
    "\n",
    "display_digit(X_train=X_train, y_train=y_train, num=1200)"
   ]
  },
  {
   "cell_type": "markdown",
   "metadata": {},
   "source": [
    "Y por último, analicemos estadísticas básicas como los valores mínimo, máximo, la media y la desviación estándar de los píxeles, de esa manera podemos obtener información fundamental en el caso de tener que preparar los datos adecuadamente."
   ]
  },
  {
   "cell_type": "code",
   "execution_count": 34,
   "metadata": {},
   "outputs": [
    {
     "name": "stdout",
     "output_type": "stream",
     "text": [
      "Valor mínimo: 0\n",
      "Valor máximo: 255\n",
      "Promedio: 33.32\n",
      "Desviación estándar: 78.57\n"
     ]
    }
   ],
   "source": [
    "print(f\"Valor mínimo: {X_train.min()}\")\n",
    "print(f\"Valor máximo: {X_train.max()}\")\n",
    "print(f\"Promedio: {X_train.mean():.2f}\")\n",
    "print(f\"Desviación estándar: {X_train.std():.2f}\")"
   ]
  },
  {
   "cell_type": "markdown",
   "metadata": {},
   "source": [
    "## 5. Preparación de los Datos"
   ]
  },
  {
   "cell_type": "markdown",
   "metadata": {},
   "source": [
    "Comenzamos estandarizando los datos, para que los valores queden entre 0 y 1"
   ]
  },
  {
   "cell_type": "code",
   "execution_count": 35,
   "metadata": {},
   "outputs": [],
   "source": [
    "X_train_norm, X_test_norm = X_train/255, X_test/255"
   ]
  },
  {
   "cell_type": "markdown",
   "metadata": {},
   "source": [
    "Como estamos trabajando con datos categóricos, lo mejor es hacer un one-hot-encoding de las etiquetas, es decir, convertir cada categoría en un vector."
   ]
  },
  {
   "cell_type": "code",
   "execution_count": 36,
   "metadata": {},
   "outputs": [
    {
     "name": "stdout",
     "output_type": "stream",
     "text": [
      "[0. 0. 0. 0. 0. 0. 0. 1. 0. 0.]\n"
     ]
    }
   ],
   "source": [
    "y_train_ohe = to_categorical(y_train, num_classes=10)\n",
    "y_test_ohe = to_categorical(y_test, num_classes=10)\n",
    "\n",
    "\n",
    "# Imprimimos por pantalla uno de esos vectores\n",
    "print(y_train_ohe[12000, :])"
   ]
  },
  {
   "cell_type": "markdown",
   "metadata": {},
   "source": [
    "El vector que hemos sacado por pantalla corresponde al del dígito 7."
   ]
  },
  {
   "cell_type": "markdown",
   "metadata": {},
   "source": [
    "Por último, nos queda separar los datos de entrenamiento en entrenamieto y validación."
   ]
  },
  {
   "cell_type": "code",
   "execution_count": 37,
   "metadata": {},
   "outputs": [
    {
     "name": "stdout",
     "output_type": "stream",
     "text": [
      "Datos divididos:\n",
      "Entrenamiento: (51000, 28, 28)\n",
      "Validación: (9000, 28, 28)\n"
     ]
    }
   ],
   "source": [
    "X_train_tr, X_val, y_train_tr, y_val = train_test_split(X_train_norm, y_train_ohe, \n",
    "                                        test_size=0.15, random_state=42)\n",
    "\n",
    "\n",
    "print(\"Datos divididos:\")\n",
    "print(\"Entrenamiento:\", X_train_tr.shape)\n",
    "print(\"Validación:\",X_val.shape)\n"
   ]
  },
  {
   "cell_type": "markdown",
   "metadata": {},
   "source": [
    "## 6.Construcción de la Red Neuronal"
   ]
  },
  {
   "cell_type": "markdown",
   "metadata": {},
   "source": [
    "Esta primera red neuronal tendrá una arquitectura simple. Constará de tres capas secuenciales:\n",
    "- `Capa de Entrada Flatten`: Convertirá nuestra matriz 2D en un vector 1D.\n",
    "\n",
    "- `Capa Oculta Densa`: Una capa que estará completamente conectada a las neuronas de la capa anterior y que tendrá una función de activación ReLU para introducir la no linealidad.\n",
    "\n",
    "- `Capa de Salida`: Una capa de 10 neuronas conectada completamente a la anterior y con una función de activación Softmax que nos convierte la salida en probabilidades normalizadas para cada clase."
   ]
  },
  {
   "cell_type": "code",
   "execution_count": 38,
   "metadata": {},
   "outputs": [
    {
     "name": "stdout",
     "output_type": "stream",
     "text": [
      "Model: \"sequential_6\"\n",
      "_________________________________________________________________\n",
      " Layer (type)                Output Shape              Param #   \n",
      "=================================================================\n",
      " flatten_3 (Flatten)         (None, 784)               0         \n",
      "                                                                 \n",
      " dense_2 (Dense)             (None, 512)               401920    \n",
      "                                                                 \n",
      " dense_3 (Dense)             (None, 10)                5130      \n",
      "                                                                 \n",
      "=================================================================\n",
      "Total params: 407050 (1.55 MB)\n",
      "Trainable params: 407050 (1.55 MB)\n",
      "Non-trainable params: 0 (0.00 Byte)\n",
      "_________________________________________________________________\n"
     ]
    }
   ],
   "source": [
    "model = Sequential()\n",
    "\n",
    "model.add(Flatten(input_shape=(28,28)))\n",
    "model.add(Dense(512, activation=\"relu\"))\n",
    "model.add(Dense(10, activation=\"softmax\"))\n",
    "\n",
    "\n",
    "model.summary()\n"
   ]
  },
  {
   "cell_type": "markdown",
   "metadata": {},
   "source": [
    "El número 512 no es arbitrario; surge de la experimentación previa con redes neuronales en problemas como MNIST. Los modelos preentrenados y los estudios sugieren que una capa densa con 512 neuronas es un buen punto de partida para clasificar imágenes pequeñas con pocos datos."
   ]
  },
  {
   "cell_type": "markdown",
   "metadata": {},
   "source": [
    "## 7. Compilación del Modelo"
   ]
  },
  {
   "cell_type": "markdown",
   "metadata": {},
   "source": [
    "Vamos a definir una tasa de aprendizaje para el optimizador de 0.005, la función de pérdda será la categorical_crossentropy pues estamos en un problema de clasificación multiclase donde las clases son exclusivas (una sola clase correcta por muestra). Como algoritmo de optimización usaremos el clásico SGD (Stochastic Gradient Descent), y la métrica que usaremos será la precisión."
   ]
  },
  {
   "cell_type": "code",
   "execution_count": 39,
   "metadata": {},
   "outputs": [],
   "source": [
    "lr = 0.005\n",
    "model.compile(loss=\"categorical_crossentropy\", optimizer=SGD(lr),\n",
    "              metrics=[\"accuracy\"])"
   ]
  },
  {
   "cell_type": "markdown",
   "metadata": {},
   "source": [
    "## 8. Entrenamiento del Modelo"
   ]
  },
  {
   "cell_type": "markdown",
   "metadata": {},
   "source": [
    "Para el entrenamiento vamos a realizaar 50 épocas y tomar 128 batches, que suelen ser los valores típicos."
   ]
  },
  {
   "cell_type": "code",
   "execution_count": 40,
   "metadata": {},
   "outputs": [
    {
     "name": "stdout",
     "output_type": "stream",
     "text": [
      "[INFO]: Entrenando red neuronal...\n",
      "Epoch 1/50\n",
      "399/399 [==============================] - 2s 5ms/step - loss: 1.4967 - accuracy: 0.6679 - val_loss: 0.9868 - val_accuracy: 0.8066\n",
      "Epoch 2/50\n",
      "399/399 [==============================] - 2s 4ms/step - loss: 0.7891 - accuracy: 0.8397 - val_loss: 0.6642 - val_accuracy: 0.8500\n",
      "Epoch 3/50\n",
      "399/399 [==============================] - 2s 4ms/step - loss: 0.5920 - accuracy: 0.8632 - val_loss: 0.5430 - val_accuracy: 0.8658\n",
      "Epoch 4/50\n",
      "399/399 [==============================] - 2s 4ms/step - loss: 0.5054 - accuracy: 0.8756 - val_loss: 0.4788 - val_accuracy: 0.8776\n",
      "Epoch 5/50\n",
      "399/399 [==============================] - 2s 4ms/step - loss: 0.4557 - accuracy: 0.8839 - val_loss: 0.4391 - val_accuracy: 0.8851\n",
      "Epoch 6/50\n",
      "399/399 [==============================] - 2s 4ms/step - loss: 0.4228 - accuracy: 0.8903 - val_loss: 0.4112 - val_accuracy: 0.8886\n",
      "Epoch 7/50\n",
      "399/399 [==============================] - 2s 4ms/step - loss: 0.3990 - accuracy: 0.8945 - val_loss: 0.3902 - val_accuracy: 0.8927\n",
      "Epoch 8/50\n",
      "399/399 [==============================] - 2s 4ms/step - loss: 0.3810 - accuracy: 0.8980 - val_loss: 0.3740 - val_accuracy: 0.8968\n",
      "Epoch 9/50\n",
      "399/399 [==============================] - 2s 4ms/step - loss: 0.3662 - accuracy: 0.9012 - val_loss: 0.3600 - val_accuracy: 0.9003\n",
      "Epoch 10/50\n",
      "399/399 [==============================] - 2s 4ms/step - loss: 0.3542 - accuracy: 0.9032 - val_loss: 0.3493 - val_accuracy: 0.9026\n",
      "Epoch 11/50\n",
      "399/399 [==============================] - 2s 4ms/step - loss: 0.3439 - accuracy: 0.9057 - val_loss: 0.3392 - val_accuracy: 0.9059\n",
      "Epoch 12/50\n",
      "399/399 [==============================] - 2s 4ms/step - loss: 0.3349 - accuracy: 0.9075 - val_loss: 0.3310 - val_accuracy: 0.9078\n",
      "Epoch 13/50\n",
      "399/399 [==============================] - 1s 4ms/step - loss: 0.3271 - accuracy: 0.9094 - val_loss: 0.3235 - val_accuracy: 0.9093\n",
      "Epoch 14/50\n",
      "399/399 [==============================] - 1s 4ms/step - loss: 0.3199 - accuracy: 0.9112 - val_loss: 0.3167 - val_accuracy: 0.9109\n",
      "Epoch 15/50\n",
      "399/399 [==============================] - 1s 4ms/step - loss: 0.3134 - accuracy: 0.9123 - val_loss: 0.3108 - val_accuracy: 0.9132\n",
      "Epoch 16/50\n",
      "399/399 [==============================] - 1s 4ms/step - loss: 0.3075 - accuracy: 0.9143 - val_loss: 0.3052 - val_accuracy: 0.9148\n",
      "Epoch 17/50\n",
      "399/399 [==============================] - 1s 4ms/step - loss: 0.3020 - accuracy: 0.9154 - val_loss: 0.3000 - val_accuracy: 0.9154\n",
      "Epoch 18/50\n",
      "399/399 [==============================] - 1s 4ms/step - loss: 0.2969 - accuracy: 0.9166 - val_loss: 0.2951 - val_accuracy: 0.9171\n",
      "Epoch 19/50\n",
      "399/399 [==============================] - 1s 4ms/step - loss: 0.2920 - accuracy: 0.9185 - val_loss: 0.2908 - val_accuracy: 0.9191\n",
      "Epoch 20/50\n",
      "399/399 [==============================] - 1s 4ms/step - loss: 0.2875 - accuracy: 0.9198 - val_loss: 0.2864 - val_accuracy: 0.9201\n",
      "Epoch 21/50\n",
      "399/399 [==============================] - 1s 4ms/step - loss: 0.2832 - accuracy: 0.9207 - val_loss: 0.2824 - val_accuracy: 0.9208\n",
      "Epoch 22/50\n",
      "399/399 [==============================] - 1s 4ms/step - loss: 0.2792 - accuracy: 0.9217 - val_loss: 0.2786 - val_accuracy: 0.9214\n",
      "Epoch 23/50\n",
      "399/399 [==============================] - 1s 4ms/step - loss: 0.2753 - accuracy: 0.9234 - val_loss: 0.2755 - val_accuracy: 0.9229\n",
      "Epoch 24/50\n",
      "399/399 [==============================] - 1s 4ms/step - loss: 0.2715 - accuracy: 0.9246 - val_loss: 0.2714 - val_accuracy: 0.9232\n",
      "Epoch 25/50\n",
      "399/399 [==============================] - 1s 4ms/step - loss: 0.2679 - accuracy: 0.9253 - val_loss: 0.2683 - val_accuracy: 0.9250\n",
      "Epoch 26/50\n",
      "399/399 [==============================] - 1s 4ms/step - loss: 0.2644 - accuracy: 0.9263 - val_loss: 0.2650 - val_accuracy: 0.9258\n",
      "Epoch 27/50\n",
      "399/399 [==============================] - 1s 4ms/step - loss: 0.2611 - accuracy: 0.9275 - val_loss: 0.2616 - val_accuracy: 0.9257\n",
      "Epoch 28/50\n",
      "399/399 [==============================] - 1s 4ms/step - loss: 0.2579 - accuracy: 0.9286 - val_loss: 0.2590 - val_accuracy: 0.9274\n",
      "Epoch 29/50\n",
      "399/399 [==============================] - 1s 4ms/step - loss: 0.2548 - accuracy: 0.9295 - val_loss: 0.2557 - val_accuracy: 0.9276\n",
      "Epoch 30/50\n",
      "399/399 [==============================] - 1s 4ms/step - loss: 0.2517 - accuracy: 0.9301 - val_loss: 0.2531 - val_accuracy: 0.9288\n",
      "Epoch 31/50\n",
      "399/399 [==============================] - 1s 4ms/step - loss: 0.2488 - accuracy: 0.9309 - val_loss: 0.2501 - val_accuracy: 0.9291\n",
      "Epoch 32/50\n",
      "399/399 [==============================] - 1s 4ms/step - loss: 0.2460 - accuracy: 0.9319 - val_loss: 0.2480 - val_accuracy: 0.9296\n",
      "Epoch 33/50\n",
      "399/399 [==============================] - 1s 4ms/step - loss: 0.2432 - accuracy: 0.9326 - val_loss: 0.2452 - val_accuracy: 0.9308\n",
      "Epoch 34/50\n",
      "399/399 [==============================] - 1s 4ms/step - loss: 0.2404 - accuracy: 0.9333 - val_loss: 0.2431 - val_accuracy: 0.9307\n",
      "Epoch 35/50\n",
      "399/399 [==============================] - 1s 4ms/step - loss: 0.2378 - accuracy: 0.9343 - val_loss: 0.2401 - val_accuracy: 0.9317\n",
      "Epoch 36/50\n",
      "399/399 [==============================] - 1s 4ms/step - loss: 0.2352 - accuracy: 0.9352 - val_loss: 0.2382 - val_accuracy: 0.9321\n",
      "Epoch 37/50\n",
      "399/399 [==============================] - 1s 4ms/step - loss: 0.2328 - accuracy: 0.9355 - val_loss: 0.2355 - val_accuracy: 0.9329\n",
      "Epoch 38/50\n",
      "399/399 [==============================] - 1s 4ms/step - loss: 0.2303 - accuracy: 0.9361 - val_loss: 0.2340 - val_accuracy: 0.9347\n",
      "Epoch 39/50\n",
      "399/399 [==============================] - 1s 4ms/step - loss: 0.2280 - accuracy: 0.9367 - val_loss: 0.2312 - val_accuracy: 0.9350\n",
      "Epoch 40/50\n",
      "399/399 [==============================] - 1s 4ms/step - loss: 0.2256 - accuracy: 0.9376 - val_loss: 0.2290 - val_accuracy: 0.9352\n",
      "Epoch 41/50\n",
      "399/399 [==============================] - 1s 4ms/step - loss: 0.2232 - accuracy: 0.9385 - val_loss: 0.2268 - val_accuracy: 0.9364\n",
      "Epoch 42/50\n",
      "399/399 [==============================] - 1s 4ms/step - loss: 0.2210 - accuracy: 0.9391 - val_loss: 0.2247 - val_accuracy: 0.9371\n",
      "Epoch 43/50\n",
      "399/399 [==============================] - 1s 4ms/step - loss: 0.2188 - accuracy: 0.9398 - val_loss: 0.2231 - val_accuracy: 0.9384\n",
      "Epoch 44/50\n",
      "399/399 [==============================] - 1s 4ms/step - loss: 0.2167 - accuracy: 0.9401 - val_loss: 0.2209 - val_accuracy: 0.9383\n",
      "Epoch 45/50\n",
      "399/399 [==============================] - 1s 4ms/step - loss: 0.2145 - accuracy: 0.9412 - val_loss: 0.2193 - val_accuracy: 0.9390\n",
      "Epoch 46/50\n",
      "399/399 [==============================] - 1s 4ms/step - loss: 0.2124 - accuracy: 0.9416 - val_loss: 0.2168 - val_accuracy: 0.9402\n",
      "Epoch 47/50\n",
      "399/399 [==============================] - 1s 4ms/step - loss: 0.2104 - accuracy: 0.9422 - val_loss: 0.2151 - val_accuracy: 0.9412\n",
      "Epoch 48/50\n",
      "399/399 [==============================] - 1s 4ms/step - loss: 0.2084 - accuracy: 0.9428 - val_loss: 0.2133 - val_accuracy: 0.9406\n",
      "Epoch 49/50\n",
      "399/399 [==============================] - 1s 4ms/step - loss: 0.2065 - accuracy: 0.9433 - val_loss: 0.2114 - val_accuracy: 0.9416\n",
      "Epoch 50/50\n",
      "399/399 [==============================] - 1s 4ms/step - loss: 0.2045 - accuracy: 0.9438 - val_loss: 0.2099 - val_accuracy: 0.9419\n"
     ]
    }
   ],
   "source": [
    "print(\"[INFO]: Entrenando red neuronal...\")\n",
    "epochs, batch_size = 50, 128\n",
    "H = model.fit(X_train_tr, y_train_tr,\n",
    "              validation_data=(X_val, y_val),\n",
    "              epochs=epochs, batch_size=batch_size)"
   ]
  },
  {
   "cell_type": "markdown",
   "metadata": {},
   "source": [
    "## 9. Gráficas de Observación del Proceso"
   ]
  },
  {
   "cell_type": "code",
   "execution_count": 41,
   "metadata": {},
   "outputs": [
    {
     "data": {
      "image/png": "[encoded data removed]",
      "text/plain": [
       "<Figure size 640x480 with 1 Axes>"
      ]
     },
     "metadata": {},
     "output_type": "display_data"
    }
   ],
   "source": [
    "def visualiza_learning_curve(H):\n",
    "  plt.style.use(\"ggplot\")\n",
    "  plt.figure()\n",
    "  plt.plot(np.arange(0, len(H.history[\"loss\"])), H.history[\"loss\"], label=\"train_loss\")\n",
    "  plt.plot(np.arange(0, len(H.history[\"loss\"])), H.history[\"val_loss\"], label=\"val_loss\")\n",
    "  plt.plot(np.arange(0, len(H.history[\"loss\"])), H.history[\"accuracy\"], label=\"accuracy\")\n",
    "  plt.plot(np.arange(0, len(H.history[\"loss\"])), H.history[\"val_accuracy\"], label=\"val_accuracy\")\n",
    "  plt.title(\"Training Loss and Accuracy\")\n",
    "  plt.xlabel(\"Epochs#\")\n",
    "  plt.ylabel(\"Train Loss/Accuracy\")\n",
    "  plt.legend()\n",
    "\n",
    "visualiza_learning_curve(H)"
   ]
  },
  {
   "cell_type": "markdown",
   "metadata": {},
   "source": [
    "El modelo está entrenando correctamente, ya que tanto la pérdida como la precisión continúan mejorando a lo largo de las épocas.Por otro lado, la precisión de validación está aumentando de forma más lenta, lo cual es normal, pero podría sugerir que un poco de sobreajuste está comenzando a ocurrir."
   ]
  },
  {
   "cell_type": "markdown",
   "metadata": {},
   "source": [
    "## 10. Evaluación del Modelo"
   ]
  },
  {
   "cell_type": "code",
   "execution_count": 42,
   "metadata": {},
   "outputs": [
    {
     "name": "stdout",
     "output_type": "stream",
     "text": [
      "[TEST]: Testeando nuestra red...\n",
      "313/313 [==============================] - 0s 1ms/step\n",
      "(10000, 10)\n",
      "[0.   0.   0.03 0.   0.   0.   0.95 0.   0.01 0.  ]\n",
      "[0. 0. 0. 0. 0. 0. 1. 0. 0. 0.]\n",
      "              precision    recall  f1-score   support\n",
      "\n",
      "           0       0.95      0.98      0.97       980\n",
      "           1       0.97      0.98      0.98      1135\n",
      "           2       0.95      0.93      0.94      1032\n",
      "           3       0.93      0.94      0.93      1010\n",
      "           4       0.93      0.95      0.94       982\n",
      "           5       0.94      0.90      0.92       892\n",
      "           6       0.94      0.96      0.95       958\n",
      "           7       0.95      0.93      0.94      1028\n",
      "           8       0.91      0.93      0.92       974\n",
      "           9       0.94      0.92      0.93      1009\n",
      "\n",
      "    accuracy                           0.94     10000\n",
      "   macro avg       0.94      0.94      0.94     10000\n",
      "weighted avg       0.94      0.94      0.94     10000\n",
      "\n"
     ]
    }
   ],
   "source": [
    "print(\"[TEST]: Testeando nuestra red...\")\n",
    "yhat_test = model.predict(X_test_norm)\n",
    "print(yhat_test.shape)\n",
    "print(np.round(yhat_test[100, :], 2))\n",
    "print(y_test_ohe[100, :])\n",
    "print(classification_report(np.argmax(y_test_ohe, -1),\n",
    "                            np.argmax(yhat_test, -1)\n",
    "                            ))"
   ]
  },
  {
   "cell_type": "markdown",
   "metadata": {},
   "source": [
    "El modelo tiene un rendimiento excelente en el conjunto de test, con una precisión de 0.94, lo que significa que el modelo es bastante preciso al clasificar los números en el conjunto de test."
   ]
  },
  {
   "cell_type": "markdown",
   "metadata": {},
   "source": [
    "El modelo tiene un rendimiento consistente en todas las clases, con los F1-scores muy cercanos a 1 en la mayoría de las clases."
   ]
  },
  {
   "cell_type": "markdown",
   "metadata": {},
   "source": [
    "Aunque el rendimiento es muy bueno, el recall para algunas clases (como la clase 5, con un 0.90) podría mejorarse aún más. "
   ]
  },
  {
   "cell_type": "markdown",
   "metadata": {},
   "source": [
    "## 11. Conclusiones"
   ]
  },
  {
   "cell_type": "markdown",
   "metadata": {},
   "source": [
    "En general, el modelo muestra una excelente capacidad para generalizar a datos no vistos, sin sobreajuste, y ha sido entrenado de manera adecuada con 50 épocas y 128 muestras por lote. Aunque el rendimiento es muy alto, siempre hay espacio para experimentar con nuevas arquitecturas o técnicas para mejorar aún más la precisión y la velocidad de convergencia en escenarios más complejos."
   ]
  },
  {
   "cell_type": "markdown",
   "metadata": {},
   "source": [
    "<!-- ## 5. Preparación de los Datos -->"
   ]
  }
 ],
 "metadata": {
  "kernelspec": {
   "display_name": "Python 3",
   "language": "python",
   "name": "python3"
  },
  "language_info": {
   "codemirror_mode": {
    "name": "ipython",
    "version": 3
   },
   "file_extension": ".py",
   "mimetype": "text/x-python",
   "name": "python",
   "nbconvert_exporter": "python",
   "pygments_lexer": "ipython3",
   "version": "3.11.9"
  }
 },
 "nbformat": 4,
 "nbformat_minor": 2
}
